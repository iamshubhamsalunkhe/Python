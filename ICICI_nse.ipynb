{
 "cells": [
  {
   "cell_type": "code",
   "execution_count": 1,
   "metadata": {},
   "outputs": [],
   "source": [
    "import numpy as np\n",
    "import pandas as pd\n"
   ]
  },
  {
   "cell_type": "code",
   "execution_count": 2,
   "metadata": {},
   "outputs": [],
   "source": [
    "data = pd.read_csv('ICICI.csv')"
   ]
  },
  {
   "cell_type": "code",
   "execution_count": 3,
   "metadata": {},
   "outputs": [
    {
     "data": {
      "text/html": [
       "<div>\n",
       "<style scoped>\n",
       "    .dataframe tbody tr th:only-of-type {\n",
       "        vertical-align: middle;\n",
       "    }\n",
       "\n",
       "    .dataframe tbody tr th {\n",
       "        vertical-align: top;\n",
       "    }\n",
       "\n",
       "    .dataframe thead th {\n",
       "        text-align: right;\n",
       "    }\n",
       "</style>\n",
       "<table border=\"1\" class=\"dataframe\">\n",
       "  <thead>\n",
       "    <tr style=\"text-align: right;\">\n",
       "      <th></th>\n",
       "      <th>SYMBOL</th>\n",
       "      <th>SERIES</th>\n",
       "      <th>OPEN</th>\n",
       "      <th>HIGH</th>\n",
       "      <th>LOW</th>\n",
       "      <th>CLOSE</th>\n",
       "      <th>LAST</th>\n",
       "      <th>PREVCLOSE</th>\n",
       "      <th>TOTTRDQTY</th>\n",
       "      <th>TOTTRDVAL</th>\n",
       "      <th>TIMESTAMP</th>\n",
       "      <th>TOTALTRADES</th>\n",
       "      <th>ISIN</th>\n",
       "      <th>Profit</th>\n",
       "    </tr>\n",
       "  </thead>\n",
       "  <tbody>\n",
       "    <tr>\n",
       "      <th>0</th>\n",
       "      <td>ICICIBANK</td>\n",
       "      <td>EQ</td>\n",
       "      <td>288.75</td>\n",
       "      <td>293.30</td>\n",
       "      <td>288.75</td>\n",
       "      <td>290.35</td>\n",
       "      <td>289.95</td>\n",
       "      <td>287.90</td>\n",
       "      <td>17157094</td>\n",
       "      <td>4.992441e+09</td>\n",
       "      <td>6/28/2017</td>\n",
       "      <td>94651</td>\n",
       "      <td>INE090A01021</td>\n",
       "      <td>Y</td>\n",
       "    </tr>\n",
       "    <tr>\n",
       "      <th>1</th>\n",
       "      <td>ICICIBANK</td>\n",
       "      <td>EQ</td>\n",
       "      <td>313.10</td>\n",
       "      <td>315.35</td>\n",
       "      <td>311.75</td>\n",
       "      <td>313.20</td>\n",
       "      <td>313.00</td>\n",
       "      <td>317.00</td>\n",
       "      <td>13929413</td>\n",
       "      <td>4.370816e+09</td>\n",
       "      <td>11/28/2017</td>\n",
       "      <td>86488</td>\n",
       "      <td>INE090A01021</td>\n",
       "      <td>N</td>\n",
       "    </tr>\n",
       "    <tr>\n",
       "      <th>2</th>\n",
       "      <td>ICICIBANK</td>\n",
       "      <td>EQ</td>\n",
       "      <td>278.95</td>\n",
       "      <td>280.10</td>\n",
       "      <td>275.70</td>\n",
       "      <td>276.35</td>\n",
       "      <td>276.70</td>\n",
       "      <td>278.85</td>\n",
       "      <td>16527127</td>\n",
       "      <td>4.578699e+09</td>\n",
       "      <td>2/28/2017</td>\n",
       "      <td>98978</td>\n",
       "      <td>INE090A01021</td>\n",
       "      <td>N</td>\n",
       "    </tr>\n",
       "    <tr>\n",
       "      <th>3</th>\n",
       "      <td>ICICIBANK</td>\n",
       "      <td>EQ</td>\n",
       "      <td>273.50</td>\n",
       "      <td>279.40</td>\n",
       "      <td>272.90</td>\n",
       "      <td>278.50</td>\n",
       "      <td>277.90</td>\n",
       "      <td>274.15</td>\n",
       "      <td>8515909</td>\n",
       "      <td>2.359974e+09</td>\n",
       "      <td>4/28/2017</td>\n",
       "      <td>69228</td>\n",
       "      <td>INE090A01021</td>\n",
       "      <td>Y</td>\n",
       "    </tr>\n",
       "    <tr>\n",
       "      <th>4</th>\n",
       "      <td>ICICIBANK</td>\n",
       "      <td>EQ</td>\n",
       "      <td>279.70</td>\n",
       "      <td>279.70</td>\n",
       "      <td>274.00</td>\n",
       "      <td>275.05</td>\n",
       "      <td>275.20</td>\n",
       "      <td>280.60</td>\n",
       "      <td>11048388</td>\n",
       "      <td>3.038922e+09</td>\n",
       "      <td>3/20/2017</td>\n",
       "      <td>101834</td>\n",
       "      <td>INE090A01021</td>\n",
       "      <td>N</td>\n",
       "    </tr>\n",
       "  </tbody>\n",
       "</table>\n",
       "</div>"
      ],
      "text/plain": [
       "      SYMBOL SERIES    OPEN    HIGH     LOW   CLOSE    LAST  PREVCLOSE  \\\n",
       "0  ICICIBANK     EQ  288.75  293.30  288.75  290.35  289.95     287.90   \n",
       "1  ICICIBANK     EQ  313.10  315.35  311.75  313.20  313.00     317.00   \n",
       "2  ICICIBANK     EQ  278.95  280.10  275.70  276.35  276.70     278.85   \n",
       "3  ICICIBANK     EQ  273.50  279.40  272.90  278.50  277.90     274.15   \n",
       "4  ICICIBANK     EQ  279.70  279.70  274.00  275.05  275.20     280.60   \n",
       "\n",
       "   TOTTRDQTY     TOTTRDVAL   TIMESTAMP  TOTALTRADES          ISIN Profit  \n",
       "0   17157094  4.992441e+09   6/28/2017        94651  INE090A01021      Y  \n",
       "1   13929413  4.370816e+09  11/28/2017        86488  INE090A01021      N  \n",
       "2   16527127  4.578699e+09   2/28/2017        98978  INE090A01021      N  \n",
       "3    8515909  2.359974e+09   4/28/2017        69228  INE090A01021      Y  \n",
       "4   11048388  3.038922e+09   3/20/2017       101834  INE090A01021      N  "
      ]
     },
     "execution_count": 3,
     "metadata": {},
     "output_type": "execute_result"
    }
   ],
   "source": [
    "data.head()"
   ]
  },
  {
   "cell_type": "code",
   "execution_count": 4,
   "metadata": {},
   "outputs": [
    {
     "data": {
      "text/plain": [
       "array(['ICICIBANK'], dtype=object)"
      ]
     },
     "execution_count": 4,
     "metadata": {},
     "output_type": "execute_result"
    }
   ],
   "source": [
    "data.SYMBOL.unique()"
   ]
  },
  {
   "cell_type": "code",
   "execution_count": 5,
   "metadata": {},
   "outputs": [],
   "source": [
    "icici = data"
   ]
  },
  {
   "cell_type": "code",
   "execution_count": 6,
   "metadata": {},
   "outputs": [],
   "source": [
    "icici=icici.drop(columns=['TIMESTAMP', 'ISIN'])"
   ]
  },
  {
   "cell_type": "code",
   "execution_count": 7,
   "metadata": {},
   "outputs": [],
   "source": [
    "import seaborn as sns\n",
    "import matplotlib.pyplot as plt\n",
    "%matplotlib inline"
   ]
  },
  {
   "cell_type": "code",
   "execution_count": 8,
   "metadata": {},
   "outputs": [],
   "source": [
    "# creating input features and target variables\n",
    "X= icici.iloc[:,2:11]\n",
    "y= icici.iloc[:,11]"
   ]
  },
  {
   "cell_type": "code",
   "execution_count": 9,
   "metadata": {},
   "outputs": [
    {
     "name": "stdout",
     "output_type": "stream",
     "text": [
      "[1 0 0 1 0 0 0 1 0 1 0 0 0 0 0 1 1 0 1 0 0 0 0 0 0 1 1 0 0 0 1 0 1 1 1 0 1\n",
      " 1 1 0 0 1 1 0 0 0 1 0 1 1 0 0 1 1 1 1 0 1 0 1 1 1 1 0 0 0 0 1 0 0 0 0 0 1\n",
      " 0 1 0 0 1 1 0 1 0 0 0 1 0 0 1 1 1 1 1 0 0 1 0 1 1 0 0 1 1 0 1 0 0 1 0 1 0\n",
      " 0 1 0 0 0 1 0 0 0 0 1 0 0 0 1 0 1 1 0 0 1 1 1 1 1 1 1 0 1 1 0 1 1 0 1 0 0\n",
      " 0 0 1 1 1 1 1 0 1 1 1 1 0 0 1 1 1 1 1 0 1 0 0 0 0 0 1 1 0 0 1 0 0 0 0 0 1\n",
      " 0 0 1 1 1 0 0 0 0 1 0 0 0 0 0 0 0 1 0 0 1 0 0 1 1 1 0 1 0 1 1 0 1 0 1 0 0\n",
      " 1 1 1 1 1 1 1 1 0 0 1 1 0 0 0 1 1 1 0 1 1 0 1 0 1 1 0 1 0 0 0 0 0 1 1 1 0\n",
      " 1 1 1 0 1 1 1 1 0 0 1 1 0 1 1 0 1 1 1 1 1 0 0 1 0 1 0 0 1 0 0 0 1 1 0 0 0\n",
      " 1 1 1 0 1 1 1 1 1 0 0 1 1 1 0 0 0 0 1 1 1 1 1 0 0 0 0 1 1 1 0 1 0 1 1 1 0\n",
      " 0 1 0 0 0 1 0 0 1 1 1 0 0 0 1 1 0 0 0 0 0 0 1 0 0 0 0 0 0 0 0 1 0 0 1 1 1\n",
      " 0 0 1 1 0 1 1 1 1 0 1 0 0 0 0 1 0 1 0 0 0 1 0 1 0 1 0 0 0 1 0 1 0 0 1 0 0\n",
      " 0 0 1 0 1 1 1 1 0 0 1 1 0 1 0 0 0 0 0 1 1 1 1 0 0 0 0 1 1 1 1 1 1 1 0 1 0\n",
      " 0 0 0 1 0 1 0 1 1 1 0 0 0 0 0 0 1 0 0 1 0 1 1 1 0 1 0 1 1 1 0 0 0 0 0 1 0\n",
      " 1 1 1 0 1 1 0 0 1 1 0 1 0 0]\n"
     ]
    }
   ],
   "source": [
    "from sklearn.preprocessing import LabelEncoder\n",
    "\n",
    "labelencoder_y = LabelEncoder()\n",
    "y = labelencoder_y.fit_transform(y)\n",
    "print(y)"
   ]
  },
  {
   "cell_type": "code",
   "execution_count": 10,
   "metadata": {},
   "outputs": [
    {
     "data": {
      "text/html": [
       "<div>\n",
       "<style scoped>\n",
       "    .dataframe tbody tr th:only-of-type {\n",
       "        vertical-align: middle;\n",
       "    }\n",
       "\n",
       "    .dataframe tbody tr th {\n",
       "        vertical-align: top;\n",
       "    }\n",
       "\n",
       "    .dataframe thead th {\n",
       "        text-align: right;\n",
       "    }\n",
       "</style>\n",
       "<table border=\"1\" class=\"dataframe\">\n",
       "  <thead>\n",
       "    <tr style=\"text-align: right;\">\n",
       "      <th></th>\n",
       "      <th>OPEN</th>\n",
       "      <th>HIGH</th>\n",
       "      <th>LOW</th>\n",
       "      <th>CLOSE</th>\n",
       "      <th>LAST</th>\n",
       "      <th>PREVCLOSE</th>\n",
       "      <th>TOTTRDQTY</th>\n",
       "      <th>TOTTRDVAL</th>\n",
       "      <th>TOTALTRADES</th>\n",
       "    </tr>\n",
       "  </thead>\n",
       "  <tbody>\n",
       "    <tr>\n",
       "      <th>0</th>\n",
       "      <td>288.75</td>\n",
       "      <td>293.30</td>\n",
       "      <td>288.75</td>\n",
       "      <td>290.35</td>\n",
       "      <td>289.95</td>\n",
       "      <td>287.90</td>\n",
       "      <td>17157094</td>\n",
       "      <td>4.992441e+09</td>\n",
       "      <td>94651</td>\n",
       "    </tr>\n",
       "    <tr>\n",
       "      <th>1</th>\n",
       "      <td>313.10</td>\n",
       "      <td>315.35</td>\n",
       "      <td>311.75</td>\n",
       "      <td>313.20</td>\n",
       "      <td>313.00</td>\n",
       "      <td>317.00</td>\n",
       "      <td>13929413</td>\n",
       "      <td>4.370816e+09</td>\n",
       "      <td>86488</td>\n",
       "    </tr>\n",
       "    <tr>\n",
       "      <th>2</th>\n",
       "      <td>278.95</td>\n",
       "      <td>280.10</td>\n",
       "      <td>275.70</td>\n",
       "      <td>276.35</td>\n",
       "      <td>276.70</td>\n",
       "      <td>278.85</td>\n",
       "      <td>16527127</td>\n",
       "      <td>4.578699e+09</td>\n",
       "      <td>98978</td>\n",
       "    </tr>\n",
       "    <tr>\n",
       "      <th>3</th>\n",
       "      <td>273.50</td>\n",
       "      <td>279.40</td>\n",
       "      <td>272.90</td>\n",
       "      <td>278.50</td>\n",
       "      <td>277.90</td>\n",
       "      <td>274.15</td>\n",
       "      <td>8515909</td>\n",
       "      <td>2.359974e+09</td>\n",
       "      <td>69228</td>\n",
       "    </tr>\n",
       "    <tr>\n",
       "      <th>4</th>\n",
       "      <td>279.70</td>\n",
       "      <td>279.70</td>\n",
       "      <td>274.00</td>\n",
       "      <td>275.05</td>\n",
       "      <td>275.20</td>\n",
       "      <td>280.60</td>\n",
       "      <td>11048388</td>\n",
       "      <td>3.038922e+09</td>\n",
       "      <td>101834</td>\n",
       "    </tr>\n",
       "  </tbody>\n",
       "</table>\n",
       "</div>"
      ],
      "text/plain": [
       "     OPEN    HIGH     LOW   CLOSE    LAST  PREVCLOSE  TOTTRDQTY     TOTTRDVAL  \\\n",
       "0  288.75  293.30  288.75  290.35  289.95     287.90   17157094  4.992441e+09   \n",
       "1  313.10  315.35  311.75  313.20  313.00     317.00   13929413  4.370816e+09   \n",
       "2  278.95  280.10  275.70  276.35  276.70     278.85   16527127  4.578699e+09   \n",
       "3  273.50  279.40  272.90  278.50  277.90     274.15    8515909  2.359974e+09   \n",
       "4  279.70  279.70  274.00  275.05  275.20     280.60   11048388  3.038922e+09   \n",
       "\n",
       "   TOTALTRADES  \n",
       "0        94651  \n",
       "1        86488  \n",
       "2        98978  \n",
       "3        69228  \n",
       "4       101834  "
      ]
     },
     "execution_count": 10,
     "metadata": {},
     "output_type": "execute_result"
    }
   ],
   "source": [
    "X.head()"
   ]
  },
  {
   "cell_type": "code",
   "execution_count": 11,
   "metadata": {},
   "outputs": [
    {
     "ename": "AttributeError",
     "evalue": "'numpy.ndarray' object has no attribute 'head'",
     "output_type": "error",
     "traceback": [
      "\u001b[1;31m---------------------------------------------------------------------------\u001b[0m",
      "\u001b[1;31mAttributeError\u001b[0m                            Traceback (most recent call last)",
      "\u001b[1;32m<ipython-input-11-17b2b1f6e15b>\u001b[0m in \u001b[0;36m<module>\u001b[1;34m\u001b[0m\n\u001b[1;32m----> 1\u001b[1;33m \u001b[0my\u001b[0m\u001b[1;33m.\u001b[0m\u001b[0mhead\u001b[0m\u001b[1;33m(\u001b[0m\u001b[1;33m)\u001b[0m\u001b[1;33m\u001b[0m\u001b[1;33m\u001b[0m\u001b[0m\n\u001b[0m",
      "\u001b[1;31mAttributeError\u001b[0m: 'numpy.ndarray' object has no attribute 'head'"
     ]
    }
   ],
   "source": [
    "y.head()"
   ]
  },
  {
   "cell_type": "code",
   "execution_count": 12,
   "metadata": {},
   "outputs": [
    {
     "name": "stderr",
     "output_type": "stream",
     "text": [
      "C:\\Users\\Shubham\\Anaconda3.1\\lib\\site-packages\\sklearn\\preprocessing\\data.py:625: DataConversionWarning: Data with input dtype int64, float64 were all converted to float64 by StandardScaler.\n",
      "  return self.partial_fit(X, y)\n",
      "C:\\Users\\Shubham\\Anaconda3.1\\lib\\site-packages\\sklearn\\base.py:462: DataConversionWarning: Data with input dtype int64, float64 were all converted to float64 by StandardScaler.\n",
      "  return self.fit(X, **fit_params).transform(X)\n"
     ]
    },
    {
     "data": {
      "text/plain": [
       "array([[ 0.6545393 ,  0.69895618,  0.76930606, ...,  0.00433029,\n",
       "         0.12878212, -0.27294135],\n",
       "       [ 1.43874313,  1.41156087,  1.50867997, ..., -0.26418573,\n",
       "        -0.05360781, -0.43102064],\n",
       "       [ 0.33892544,  0.2723629 ,  0.34979173, ..., -0.04807769,\n",
       "         0.00738687, -0.18914752],\n",
       "       ...,\n",
       "       [-1.54187554, -1.54712208, -1.45524503, ..., -0.66770161,\n",
       "        -0.74541315, -0.92688959],\n",
       "       [ 0.23747812,  0.13501279,  0.16334091, ..., -0.06337496,\n",
       "        -0.02776563, -0.47468949],\n",
       "       [ 1.46450753,  1.42448794,  1.53278999, ..., -0.62120523,\n",
       "        -0.44740584,  1.14109657]])"
      ]
     },
     "execution_count": 12,
     "metadata": {},
     "output_type": "execute_result"
    }
   ],
   "source": [
    "#standardizing the input feature\n",
    "from sklearn.preprocessing import StandardScaler\n",
    "sc = StandardScaler()\n",
    "X = sc.fit_transform(X)\n",
    "X"
   ]
  },
  {
   "cell_type": "code",
   "execution_count": 13,
   "metadata": {},
   "outputs": [],
   "source": [
    "from sklearn.model_selection import train_test_split\n",
    "X_train, X_test, y_train, y_test = train_test_split(X, y, test_size=0.3)"
   ]
  },
  {
   "cell_type": "code",
   "execution_count": 14,
   "metadata": {},
   "outputs": [
    {
     "name": "stderr",
     "output_type": "stream",
     "text": [
      "Using TensorFlow backend.\n"
     ]
    }
   ],
   "source": [
    "from keras import Sequential\n",
    "from keras.layers import Dense"
   ]
  },
  {
   "cell_type": "code",
   "execution_count": 15,
   "metadata": {},
   "outputs": [
    {
     "name": "stdout",
     "output_type": "stream",
     "text": [
      "WARNING:tensorflow:From C:\\Users\\Shubham\\Anaconda3.1\\lib\\site-packages\\tensorflow\\python\\framework\\op_def_library.py:263: colocate_with (from tensorflow.python.framework.ops) is deprecated and will be removed in a future version.\n",
      "Instructions for updating:\n",
      "Colocations handled automatically by placer.\n"
     ]
    }
   ],
   "source": [
    "classifier = Sequential()\n",
    "#First Hidden Layer\n",
    "classifier.add(Dense(4, activation='relu', kernel_initializer='random_normal', input_dim=9))\n",
    "#Second  Hidden Layer\n",
    "classifier.add(Dense(4, activation='relu', kernel_initializer='random_normal'))\n",
    "#Output Layer\n",
    "classifier.add(Dense(1, activation='sigmoid', kernel_initializer='random_normal'))"
   ]
  },
  {
   "cell_type": "code",
   "execution_count": 16,
   "metadata": {},
   "outputs": [],
   "source": [
    "#Compiling the neural network\n",
    "classifier.compile(optimizer ='adam',loss='binary_crossentropy', metrics =['accuracy'])"
   ]
  },
  {
   "cell_type": "code",
   "execution_count": 17,
   "metadata": {},
   "outputs": [
    {
     "name": "stdout",
     "output_type": "stream",
     "text": [
      "WARNING:tensorflow:From C:\\Users\\Shubham\\Anaconda3.1\\lib\\site-packages\\tensorflow\\python\\ops\\math_ops.py:3066: to_int32 (from tensorflow.python.ops.math_ops) is deprecated and will be removed in a future version.\n",
      "Instructions for updating:\n",
      "Use tf.cast instead.\n",
      "Epoch 1/100\n",
      "346/346 [==============================] - 1s 4ms/step - loss: 0.6931 - acc: 0.5289\n",
      "Epoch 2/100\n",
      "346/346 [==============================] - 0s 217us/step - loss: 0.6929 - acc: 0.5289\n",
      "Epoch 3/100\n",
      "346/346 [==============================] - 0s 199us/step - loss: 0.6927 - acc: 0.5289\n",
      "Epoch 4/100\n",
      "346/346 [==============================] - 0s 191us/step - loss: 0.6925 - acc: 0.5289\n",
      "Epoch 5/100\n",
      "346/346 [==============================] - 0s 208us/step - loss: 0.6924 - acc: 0.5289\n",
      "Epoch 6/100\n",
      "346/346 [==============================] - 0s 280us/step - loss: 0.6923 - acc: 0.5289\n",
      "Epoch 7/100\n",
      "346/346 [==============================] - 0s 228us/step - loss: 0.6920 - acc: 0.5289\n",
      "Epoch 8/100\n",
      "346/346 [==============================] - 0s 217us/step - loss: 0.6918 - acc: 0.5289\n",
      "Epoch 9/100\n",
      "346/346 [==============================] - 0s 243us/step - loss: 0.6915 - acc: 0.5289\n",
      "Epoch 10/100\n",
      "346/346 [==============================] - 0s 214us/step - loss: 0.6912 - acc: 0.5289\n",
      "Epoch 11/100\n",
      "346/346 [==============================] - 0s 188us/step - loss: 0.6908 - acc: 0.5289\n",
      "Epoch 12/100\n",
      "346/346 [==============================] - 0s 194us/step - loss: 0.6903 - acc: 0.5289\n",
      "Epoch 13/100\n",
      "346/346 [==============================] - 0s 266us/step - loss: 0.6896 - acc: 0.5289\n",
      "Epoch 14/100\n",
      "346/346 [==============================] - 0s 254us/step - loss: 0.6888 - acc: 0.5289\n",
      "Epoch 15/100\n",
      "346/346 [==============================] - 0s 202us/step - loss: 0.6878 - acc: 0.5289\n",
      "Epoch 16/100\n",
      "346/346 [==============================] - 0s 185us/step - loss: 0.6865 - acc: 0.5289\n",
      "Epoch 17/100\n",
      "346/346 [==============================] - 0s 162us/step - loss: 0.6852 - acc: 0.5289\n",
      "Epoch 18/100\n",
      "346/346 [==============================] - 0s 234us/step - loss: 0.6833 - acc: 0.5289\n",
      "Epoch 19/100\n",
      "346/346 [==============================] - 0s 185us/step - loss: 0.6815 - acc: 0.5289\n",
      "Epoch 20/100\n",
      "346/346 [==============================] - 0s 173us/step - loss: 0.6793 - acc: 0.5289\n",
      "Epoch 21/100\n",
      "346/346 [==============================] - 0s 185us/step - loss: 0.6766 - acc: 0.5289\n",
      "Epoch 22/100\n",
      "346/346 [==============================] - 0s 168us/step - loss: 0.6727 - acc: 0.5289\n",
      "Epoch 23/100\n",
      "346/346 [==============================] - 0s 217us/step - loss: 0.6675 - acc: 0.5289\n",
      "Epoch 24/100\n",
      "346/346 [==============================] - 0s 208us/step - loss: 0.6616 - acc: 0.5491\n",
      "Epoch 25/100\n",
      "346/346 [==============================] - 0s 188us/step - loss: 0.6527 - acc: 0.6127\n",
      "Epoch 26/100\n",
      "346/346 [==============================] - 0s 182us/step - loss: 0.6450 - acc: 0.6445\n",
      "Epoch 27/100\n",
      "346/346 [==============================] - 0s 182us/step - loss: 0.6325 - acc: 0.7023\n",
      "Epoch 28/100\n",
      "346/346 [==============================] - 0s 162us/step - loss: 0.6155 - acc: 0.7688\n",
      "Epoch 29/100\n",
      "346/346 [==============================] - 0s 173us/step - loss: 0.6016 - acc: 0.8035\n",
      "Epoch 30/100\n",
      "346/346 [==============================] - 0s 185us/step - loss: 0.5920 - acc: 0.7832\n",
      "Epoch 31/100\n",
      "346/346 [==============================] - 0s 194us/step - loss: 0.5719 - acc: 0.8150\n",
      "Epoch 32/100\n",
      "346/346 [==============================] - 0s 199us/step - loss: 0.5562 - acc: 0.8642\n",
      "Epoch 33/100\n",
      "346/346 [==============================] - 0s 194us/step - loss: 0.5409 - acc: 0.8613\n",
      "Epoch 34/100\n",
      "346/346 [==============================] - 0s 205us/step - loss: 0.5264 - acc: 0.8410\n",
      "Epoch 35/100\n",
      "346/346 [==============================] - 0s 191us/step - loss: 0.5110 - acc: 0.8439\n",
      "Epoch 36/100\n",
      "346/346 [==============================] - 0s 176us/step - loss: 0.5007 - acc: 0.8902\n",
      "Epoch 37/100\n",
      "346/346 [==============================] - 0s 162us/step - loss: 0.4780 - acc: 0.8960\n",
      "Epoch 38/100\n",
      "346/346 [==============================] - 0s 176us/step - loss: 0.4636 - acc: 0.9075\n",
      "Epoch 39/100\n",
      "346/346 [==============================] - 0s 199us/step - loss: 0.4492 - acc: 0.9249\n",
      "Epoch 40/100\n",
      "346/346 [==============================] - 0s 179us/step - loss: 0.4396 - acc: 0.9017\n",
      "Epoch 41/100\n",
      "346/346 [==============================] - 0s 185us/step - loss: 0.4245 - acc: 0.8757\n",
      "Epoch 42/100\n",
      "346/346 [==============================] - 0s 234us/step - loss: 0.4149 - acc: 0.9017\n",
      "Epoch 43/100\n",
      "346/346 [==============================] - 0s 194us/step - loss: 0.4010 - acc: 0.8931\n",
      "Epoch 44/100\n",
      "346/346 [==============================] - 0s 217us/step - loss: 0.3949 - acc: 0.9046\n",
      "Epoch 45/100\n",
      "346/346 [==============================] - 0s 188us/step - loss: 0.3787 - acc: 0.9191\n",
      "Epoch 46/100\n",
      "346/346 [==============================] - 0s 168us/step - loss: 0.3680 - acc: 0.9335\n",
      "Epoch 47/100\n",
      "346/346 [==============================] - 0s 179us/step - loss: 0.3593 - acc: 0.9191\n",
      "Epoch 48/100\n",
      "346/346 [==============================] - 0s 194us/step - loss: 0.3574 - acc: 0.9133\n",
      "Epoch 49/100\n",
      "346/346 [==============================] - 0s 191us/step - loss: 0.3440 - acc: 0.9277\n",
      "Epoch 50/100\n",
      "346/346 [==============================] - 0s 202us/step - loss: 0.3350 - acc: 0.9364\n",
      "Epoch 51/100\n",
      "346/346 [==============================] - 0s 196us/step - loss: 0.3279 - acc: 0.9422\n",
      "Epoch 52/100\n",
      "346/346 [==============================] - 0s 251us/step - loss: 0.3186 - acc: 0.9249\n",
      "Epoch 53/100\n",
      "346/346 [==============================] - 0s 289us/step - loss: 0.3191 - acc: 0.9393\n",
      "Epoch 54/100\n",
      "346/346 [==============================] - 0s 208us/step - loss: 0.3071 - acc: 0.9306\n",
      "Epoch 55/100\n",
      "346/346 [==============================] - 0s 208us/step - loss: 0.3054 - acc: 0.9249\n",
      "Epoch 56/100\n",
      "346/346 [==============================] - 0s 214us/step - loss: 0.3011 - acc: 0.9393\n",
      "Epoch 57/100\n",
      "346/346 [==============================] - 0s 217us/step - loss: 0.2941 - acc: 0.9393\n",
      "Epoch 58/100\n",
      "346/346 [==============================] - 0s 251us/step - loss: 0.2883 - acc: 0.9306\n",
      "Epoch 59/100\n",
      "346/346 [==============================] - 0s 220us/step - loss: 0.2852 - acc: 0.9335\n",
      "Epoch 60/100\n",
      "346/346 [==============================] - 0s 300us/step - loss: 0.2778 - acc: 0.9191\n",
      "Epoch 61/100\n",
      "346/346 [==============================] - 0s 413us/step - loss: 0.2705 - acc: 0.9509\n",
      "Epoch 62/100\n",
      "346/346 [==============================] - 0s 306us/step - loss: 0.2650 - acc: 0.9480\n",
      "Epoch 63/100\n",
      "346/346 [==============================] - 0s 352us/step - loss: 0.2682 - acc: 0.9220\n",
      "Epoch 64/100\n",
      "346/346 [==============================] - 0s 295us/step - loss: 0.2660 - acc: 0.9133\n",
      "Epoch 65/100\n",
      "346/346 [==============================] - 0s 269us/step - loss: 0.2623 - acc: 0.9335\n",
      "Epoch 66/100\n",
      "346/346 [==============================] - 0s 300us/step - loss: 0.2652 - acc: 0.9249\n",
      "Epoch 67/100\n",
      "346/346 [==============================] - 0s 318us/step - loss: 0.2600 - acc: 0.9220\n",
      "Epoch 68/100\n",
      "346/346 [==============================] - 0s 344us/step - loss: 0.2473 - acc: 0.9422\n",
      "Epoch 69/100\n",
      "346/346 [==============================] - 0s 272us/step - loss: 0.2458 - acc: 0.9335\n",
      "Epoch 70/100\n",
      "346/346 [==============================] - 0s 416us/step - loss: 0.2454 - acc: 0.9191\n",
      "Epoch 71/100\n",
      "346/346 [==============================] - 0s 402us/step - loss: 0.2400 - acc: 0.9422\n",
      "Epoch 72/100\n",
      "346/346 [==============================] - 0s 416us/step - loss: 0.2343 - acc: 0.9393\n",
      "Epoch 73/100\n",
      "346/346 [==============================] - 0s 272us/step - loss: 0.2307 - acc: 0.9538\n",
      "Epoch 74/100\n",
      "346/346 [==============================] - 0s 182us/step - loss: 0.2279 - acc: 0.9364\n",
      "Epoch 75/100\n",
      "346/346 [==============================] - 0s 260us/step - loss: 0.2213 - acc: 0.9509\n",
      "Epoch 76/100\n",
      "346/346 [==============================] - 0s 234us/step - loss: 0.2274 - acc: 0.9249\n",
      "Epoch 77/100\n",
      "346/346 [==============================] - 0s 205us/step - loss: 0.2210 - acc: 0.9451\n",
      "Epoch 78/100\n",
      "346/346 [==============================] - 0s 240us/step - loss: 0.2165 - acc: 0.9451\n",
      "Epoch 79/100\n",
      "346/346 [==============================] - 0s 237us/step - loss: 0.2242 - acc: 0.9162\n",
      "Epoch 80/100\n",
      "346/346 [==============================] - 0s 194us/step - loss: 0.2133 - acc: 0.9451\n",
      "Epoch 81/100\n"
     ]
    },
    {
     "name": "stdout",
     "output_type": "stream",
     "text": [
      "346/346 [==============================] - 0s 251us/step - loss: 0.2132 - acc: 0.9422\n",
      "Epoch 82/100\n",
      "346/346 [==============================] - 0s 182us/step - loss: 0.2079 - acc: 0.9480\n",
      "Epoch 83/100\n",
      "346/346 [==============================] - 0s 205us/step - loss: 0.2125 - acc: 0.9480\n",
      "Epoch 84/100\n",
      "346/346 [==============================] - 0s 228us/step - loss: 0.2075 - acc: 0.9364\n",
      "Epoch 85/100\n",
      "346/346 [==============================] - 0s 191us/step - loss: 0.2103 - acc: 0.9393\n",
      "Epoch 86/100\n",
      "346/346 [==============================] - 0s 191us/step - loss: 0.2028 - acc: 0.9509\n",
      "Epoch 87/100\n",
      "346/346 [==============================] - 0s 173us/step - loss: 0.1995 - acc: 0.9624\n",
      "Epoch 88/100\n",
      "346/346 [==============================] - 0s 248us/step - loss: 0.2030 - acc: 0.9393\n",
      "Epoch 89/100\n",
      "346/346 [==============================] - 0s 179us/step - loss: 0.1995 - acc: 0.9422\n",
      "Epoch 90/100\n",
      "346/346 [==============================] - 0s 257us/step - loss: 0.1990 - acc: 0.9451\n",
      "Epoch 91/100\n",
      "346/346 [==============================] - 0s 251us/step - loss: 0.1999 - acc: 0.9277\n",
      "Epoch 92/100\n",
      "346/346 [==============================] - 0s 272us/step - loss: 0.1917 - acc: 0.9509\n",
      "Epoch 93/100\n",
      "346/346 [==============================] - 0s 254us/step - loss: 0.1959 - acc: 0.9422\n",
      "Epoch 94/100\n",
      "346/346 [==============================] - 0s 225us/step - loss: 0.1872 - acc: 0.9538\n",
      "Epoch 95/100\n",
      "346/346 [==============================] - 0s 234us/step - loss: 0.1887 - acc: 0.9480\n",
      "Epoch 96/100\n",
      "346/346 [==============================] - 0s 191us/step - loss: 0.1845 - acc: 0.9480\n",
      "Epoch 97/100\n",
      "346/346 [==============================] - 0s 243us/step - loss: 0.1871 - acc: 0.9480\n",
      "Epoch 98/100\n",
      "346/346 [==============================] - 0s 194us/step - loss: 0.1841 - acc: 0.9509\n",
      "Epoch 99/100\n",
      "346/346 [==============================] - 0s 191us/step - loss: 0.1846 - acc: 0.9451\n",
      "Epoch 100/100\n",
      "346/346 [==============================] - 0s 202us/step - loss: 0.1889 - acc: 0.9451\n"
     ]
    },
    {
     "data": {
      "text/plain": [
       "<keras.callbacks.History at 0x20c85b56390>"
      ]
     },
     "execution_count": 17,
     "metadata": {},
     "output_type": "execute_result"
    }
   ],
   "source": [
    "#Fitting the data to the training dataset\n",
    "classifier.fit(X_train,y_train, batch_size=10, epochs=100)"
   ]
  },
  {
   "cell_type": "code",
   "execution_count": 18,
   "metadata": {},
   "outputs": [
    {
     "name": "stdout",
     "output_type": "stream",
     "text": [
      "346/346 [==============================] - 0s 508us/step\n"
     ]
    },
    {
     "data": {
      "text/plain": [
       "[0.17815980504702972, 0.945086703135099]"
      ]
     },
     "execution_count": 18,
     "metadata": {},
     "output_type": "execute_result"
    }
   ],
   "source": [
    "eval_model=classifier.evaluate(X_train, y_train)\n",
    "eval_model\n"
   ]
  },
  {
   "cell_type": "code",
   "execution_count": 19,
   "metadata": {},
   "outputs": [],
   "source": [
    "y_pred=classifier.predict(X_test)\n",
    "y_pred =(y_pred>0.5)"
   ]
  },
  {
   "cell_type": "code",
   "execution_count": 20,
   "metadata": {},
   "outputs": [
    {
     "name": "stdout",
     "output_type": "stream",
     "text": [
      "[[71  4]\n",
      " [ 5 69]]\n"
     ]
    }
   ],
   "source": [
    "from sklearn.metrics import confusion_matrix\n",
    "cm = confusion_matrix(y_test, y_pred)\n",
    "print(cm)\n"
   ]
  },
  {
   "cell_type": "code",
   "execution_count": null,
   "metadata": {},
   "outputs": [],
   "source": []
  }
 ],
 "metadata": {
  "kernelspec": {
   "display_name": "Python 3",
   "language": "python",
   "name": "python3"
  },
  "language_info": {
   "codemirror_mode": {
    "name": "ipython",
    "version": 3
   },
   "file_extension": ".py",
   "mimetype": "text/x-python",
   "name": "python",
   "nbconvert_exporter": "python",
   "pygments_lexer": "ipython3",
   "version": "3.7.1"
  }
 },
 "nbformat": 4,
 "nbformat_minor": 2
}
