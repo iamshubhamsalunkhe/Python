{
 "cells": [
  {
   "cell_type": "code",
   "execution_count": 44,
   "metadata": {},
   "outputs": [],
   "source": [
    "import pandas as pd\n",
    "import numpy as np\n",
    "import matplotlib.pyplot as plt"
   ]
  },
  {
   "cell_type": "code",
   "execution_count": 45,
   "metadata": {},
   "outputs": [],
   "source": [
    "data = pd.read_csv('winequality.csv',index_col = 'ID')"
   ]
  },
  {
   "cell_type": "code",
   "execution_count": 46,
   "metadata": {},
   "outputs": [
    {
     "data": {
      "text/html": [
       "<div>\n",
       "<style scoped>\n",
       "    .dataframe tbody tr th:only-of-type {\n",
       "        vertical-align: middle;\n",
       "    }\n",
       "\n",
       "    .dataframe tbody tr th {\n",
       "        vertical-align: top;\n",
       "    }\n",
       "\n",
       "    .dataframe thead th {\n",
       "        text-align: right;\n",
       "    }\n",
       "</style>\n",
       "<table border=\"1\" class=\"dataframe\">\n",
       "  <thead>\n",
       "    <tr style=\"text-align: right;\">\n",
       "      <th></th>\n",
       "      <th>fixed acidity</th>\n",
       "      <th>volatile acidity</th>\n",
       "      <th>citric acid</th>\n",
       "      <th>residual sugar</th>\n",
       "      <th>chlorides</th>\n",
       "      <th>free sulfur dioxide</th>\n",
       "      <th>total sulfur dioxide</th>\n",
       "      <th>density</th>\n",
       "      <th>pH</th>\n",
       "      <th>sulphates</th>\n",
       "      <th>alcohol</th>\n",
       "      <th>quality</th>\n",
       "    </tr>\n",
       "    <tr>\n",
       "      <th>ID</th>\n",
       "      <th></th>\n",
       "      <th></th>\n",
       "      <th></th>\n",
       "      <th></th>\n",
       "      <th></th>\n",
       "      <th></th>\n",
       "      <th></th>\n",
       "      <th></th>\n",
       "      <th></th>\n",
       "      <th></th>\n",
       "      <th></th>\n",
       "      <th></th>\n",
       "    </tr>\n",
       "  </thead>\n",
       "  <tbody>\n",
       "    <tr>\n",
       "      <th>W0001</th>\n",
       "      <td>7.0</td>\n",
       "      <td>0.27</td>\n",
       "      <td>0.36</td>\n",
       "      <td>20.7</td>\n",
       "      <td>0.045</td>\n",
       "      <td>45.0</td>\n",
       "      <td>170.0</td>\n",
       "      <td>1.0010</td>\n",
       "      <td>3.00</td>\n",
       "      <td>0.45</td>\n",
       "      <td>8.8</td>\n",
       "      <td>2</td>\n",
       "    </tr>\n",
       "    <tr>\n",
       "      <th>W0002</th>\n",
       "      <td>6.3</td>\n",
       "      <td>0.30</td>\n",
       "      <td>0.34</td>\n",
       "      <td>1.6</td>\n",
       "      <td>0.049</td>\n",
       "      <td>14.0</td>\n",
       "      <td>132.0</td>\n",
       "      <td>0.9940</td>\n",
       "      <td>3.30</td>\n",
       "      <td>NaN</td>\n",
       "      <td>9.5</td>\n",
       "      <td>2</td>\n",
       "    </tr>\n",
       "    <tr>\n",
       "      <th>W0003</th>\n",
       "      <td>8.1</td>\n",
       "      <td>0.28</td>\n",
       "      <td>0.40</td>\n",
       "      <td>6.9</td>\n",
       "      <td>0.050</td>\n",
       "      <td>30.0</td>\n",
       "      <td>97.0</td>\n",
       "      <td>0.9951</td>\n",
       "      <td>3.26</td>\n",
       "      <td>NaN</td>\n",
       "      <td>10.1</td>\n",
       "      <td>2</td>\n",
       "    </tr>\n",
       "    <tr>\n",
       "      <th>W0004</th>\n",
       "      <td>7.2</td>\n",
       "      <td>0.23</td>\n",
       "      <td>0.32</td>\n",
       "      <td>8.5</td>\n",
       "      <td>0.058</td>\n",
       "      <td>47.0</td>\n",
       "      <td>186.0</td>\n",
       "      <td>0.9956</td>\n",
       "      <td>3.19</td>\n",
       "      <td>0.40</td>\n",
       "      <td>9.9</td>\n",
       "      <td>2</td>\n",
       "    </tr>\n",
       "    <tr>\n",
       "      <th>W0005</th>\n",
       "      <td>7.2</td>\n",
       "      <td>0.23</td>\n",
       "      <td>0.32</td>\n",
       "      <td>8.5</td>\n",
       "      <td>0.058</td>\n",
       "      <td>47.0</td>\n",
       "      <td>186.0</td>\n",
       "      <td>0.9956</td>\n",
       "      <td>3.19</td>\n",
       "      <td>0.40</td>\n",
       "      <td>9.9</td>\n",
       "      <td>2</td>\n",
       "    </tr>\n",
       "  </tbody>\n",
       "</table>\n",
       "</div>"
      ],
      "text/plain": [
       "       fixed acidity  volatile acidity  citric acid  residual sugar  \\\n",
       "ID                                                                    \n",
       "W0001            7.0              0.27         0.36            20.7   \n",
       "W0002            6.3              0.30         0.34             1.6   \n",
       "W0003            8.1              0.28         0.40             6.9   \n",
       "W0004            7.2              0.23         0.32             8.5   \n",
       "W0005            7.2              0.23         0.32             8.5   \n",
       "\n",
       "       chlorides  free sulfur dioxide  total sulfur dioxide  density    pH  \\\n",
       "ID                                                                           \n",
       "W0001      0.045                 45.0                 170.0   1.0010  3.00   \n",
       "W0002      0.049                 14.0                 132.0   0.9940  3.30   \n",
       "W0003      0.050                 30.0                  97.0   0.9951  3.26   \n",
       "W0004      0.058                 47.0                 186.0   0.9956  3.19   \n",
       "W0005      0.058                 47.0                 186.0   0.9956  3.19   \n",
       "\n",
       "       sulphates  alcohol  quality  \n",
       "ID                                  \n",
       "W0001       0.45      8.8        2  \n",
       "W0002        NaN      9.5        2  \n",
       "W0003        NaN     10.1        2  \n",
       "W0004       0.40      9.9        2  \n",
       "W0005       0.40      9.9        2  "
      ]
     },
     "execution_count": 46,
     "metadata": {},
     "output_type": "execute_result"
    }
   ],
   "source": [
    "data.head()"
   ]
  },
  {
   "cell_type": "code",
   "execution_count": 47,
   "metadata": {},
   "outputs": [
    {
     "data": {
      "text/plain": [
       "(4898, 12)"
      ]
     },
     "execution_count": 47,
     "metadata": {},
     "output_type": "execute_result"
    }
   ],
   "source": [
    "data.shape"
   ]
  },
  {
   "cell_type": "code",
   "execution_count": 48,
   "metadata": {},
   "outputs": [
    {
     "data": {
      "text/plain": [
       "Index(['fixed acidity', 'volatile acidity', 'citric acid', 'residual sugar',\n",
       "       'chlorides', 'free sulfur dioxide', 'total sulfur dioxide', 'density',\n",
       "       'pH', 'sulphates', 'alcohol', 'quality'],\n",
       "      dtype='object')"
      ]
     },
     "execution_count": 48,
     "metadata": {},
     "output_type": "execute_result"
    }
   ],
   "source": [
    "data.columns"
   ]
  },
  {
   "cell_type": "code",
   "execution_count": 49,
   "metadata": {},
   "outputs": [],
   "source": [
    "X = data.drop('quality', axis = 1)\n",
    "y = data['quality']"
   ]
  },
  {
   "cell_type": "code",
   "execution_count": 50,
   "metadata": {},
   "outputs": [
    {
     "data": {
      "text/html": [
       "<div>\n",
       "<style scoped>\n",
       "    .dataframe tbody tr th:only-of-type {\n",
       "        vertical-align: middle;\n",
       "    }\n",
       "\n",
       "    .dataframe tbody tr th {\n",
       "        vertical-align: top;\n",
       "    }\n",
       "\n",
       "    .dataframe thead th {\n",
       "        text-align: right;\n",
       "    }\n",
       "</style>\n",
       "<table border=\"1\" class=\"dataframe\">\n",
       "  <thead>\n",
       "    <tr style=\"text-align: right;\">\n",
       "      <th></th>\n",
       "      <th>fixed acidity</th>\n",
       "      <th>volatile acidity</th>\n",
       "      <th>citric acid</th>\n",
       "      <th>residual sugar</th>\n",
       "      <th>chlorides</th>\n",
       "      <th>free sulfur dioxide</th>\n",
       "      <th>total sulfur dioxide</th>\n",
       "      <th>density</th>\n",
       "      <th>pH</th>\n",
       "      <th>sulphates</th>\n",
       "      <th>alcohol</th>\n",
       "    </tr>\n",
       "    <tr>\n",
       "      <th>ID</th>\n",
       "      <th></th>\n",
       "      <th></th>\n",
       "      <th></th>\n",
       "      <th></th>\n",
       "      <th></th>\n",
       "      <th></th>\n",
       "      <th></th>\n",
       "      <th></th>\n",
       "      <th></th>\n",
       "      <th></th>\n",
       "      <th></th>\n",
       "    </tr>\n",
       "  </thead>\n",
       "  <tbody>\n",
       "    <tr>\n",
       "      <th>W0001</th>\n",
       "      <td>7.0</td>\n",
       "      <td>0.27</td>\n",
       "      <td>0.36</td>\n",
       "      <td>20.7</td>\n",
       "      <td>0.045</td>\n",
       "      <td>45.0</td>\n",
       "      <td>170.0</td>\n",
       "      <td>1.0010</td>\n",
       "      <td>3.00</td>\n",
       "      <td>0.45</td>\n",
       "      <td>8.8</td>\n",
       "    </tr>\n",
       "    <tr>\n",
       "      <th>W0002</th>\n",
       "      <td>6.3</td>\n",
       "      <td>0.30</td>\n",
       "      <td>0.34</td>\n",
       "      <td>1.6</td>\n",
       "      <td>0.049</td>\n",
       "      <td>14.0</td>\n",
       "      <td>132.0</td>\n",
       "      <td>0.9940</td>\n",
       "      <td>3.30</td>\n",
       "      <td>NaN</td>\n",
       "      <td>9.5</td>\n",
       "    </tr>\n",
       "    <tr>\n",
       "      <th>W0003</th>\n",
       "      <td>8.1</td>\n",
       "      <td>0.28</td>\n",
       "      <td>0.40</td>\n",
       "      <td>6.9</td>\n",
       "      <td>0.050</td>\n",
       "      <td>30.0</td>\n",
       "      <td>97.0</td>\n",
       "      <td>0.9951</td>\n",
       "      <td>3.26</td>\n",
       "      <td>NaN</td>\n",
       "      <td>10.1</td>\n",
       "    </tr>\n",
       "    <tr>\n",
       "      <th>W0004</th>\n",
       "      <td>7.2</td>\n",
       "      <td>0.23</td>\n",
       "      <td>0.32</td>\n",
       "      <td>8.5</td>\n",
       "      <td>0.058</td>\n",
       "      <td>47.0</td>\n",
       "      <td>186.0</td>\n",
       "      <td>0.9956</td>\n",
       "      <td>3.19</td>\n",
       "      <td>0.40</td>\n",
       "      <td>9.9</td>\n",
       "    </tr>\n",
       "    <tr>\n",
       "      <th>W0005</th>\n",
       "      <td>7.2</td>\n",
       "      <td>0.23</td>\n",
       "      <td>0.32</td>\n",
       "      <td>8.5</td>\n",
       "      <td>0.058</td>\n",
       "      <td>47.0</td>\n",
       "      <td>186.0</td>\n",
       "      <td>0.9956</td>\n",
       "      <td>3.19</td>\n",
       "      <td>0.40</td>\n",
       "      <td>9.9</td>\n",
       "    </tr>\n",
       "  </tbody>\n",
       "</table>\n",
       "</div>"
      ],
      "text/plain": [
       "       fixed acidity  volatile acidity  citric acid  residual sugar  \\\n",
       "ID                                                                    \n",
       "W0001            7.0              0.27         0.36            20.7   \n",
       "W0002            6.3              0.30         0.34             1.6   \n",
       "W0003            8.1              0.28         0.40             6.9   \n",
       "W0004            7.2              0.23         0.32             8.5   \n",
       "W0005            7.2              0.23         0.32             8.5   \n",
       "\n",
       "       chlorides  free sulfur dioxide  total sulfur dioxide  density    pH  \\\n",
       "ID                                                                           \n",
       "W0001      0.045                 45.0                 170.0   1.0010  3.00   \n",
       "W0002      0.049                 14.0                 132.0   0.9940  3.30   \n",
       "W0003      0.050                 30.0                  97.0   0.9951  3.26   \n",
       "W0004      0.058                 47.0                 186.0   0.9956  3.19   \n",
       "W0005      0.058                 47.0                 186.0   0.9956  3.19   \n",
       "\n",
       "       sulphates  alcohol  \n",
       "ID                         \n",
       "W0001       0.45      8.8  \n",
       "W0002        NaN      9.5  \n",
       "W0003        NaN     10.1  \n",
       "W0004       0.40      9.9  \n",
       "W0005       0.40      9.9  "
      ]
     },
     "execution_count": 50,
     "metadata": {},
     "output_type": "execute_result"
    }
   ],
   "source": [
    "X.head()"
   ]
  },
  {
   "cell_type": "code",
   "execution_count": 51,
   "metadata": {
    "scrolled": true
   },
   "outputs": [
    {
     "data": {
      "text/plain": [
       "fixed acidity             0\n",
       "volatile acidity          0\n",
       "citric acid             733\n",
       "residual sugar            0\n",
       "chlorides                 0\n",
       "free sulfur dioxide       0\n",
       "total sulfur dioxide      0\n",
       "density                   0\n",
       "pH                      844\n",
       "sulphates               723\n",
       "alcohol                   0\n",
       "dtype: int64"
      ]
     },
     "execution_count": 51,
     "metadata": {},
     "output_type": "execute_result"
    }
   ],
   "source": [
    "X.isnull().sum()"
   ]
  },
  {
   "cell_type": "code",
   "execution_count": 52,
   "metadata": {},
   "outputs": [],
   "source": [
    "X.fillna(X.median(), inplace = True)"
   ]
  },
  {
   "cell_type": "code",
   "execution_count": 53,
   "metadata": {
    "scrolled": true
   },
   "outputs": [
    {
     "data": {
      "text/plain": [
       "fixed acidity           0\n",
       "volatile acidity        0\n",
       "citric acid             0\n",
       "residual sugar          0\n",
       "chlorides               0\n",
       "free sulfur dioxide     0\n",
       "total sulfur dioxide    0\n",
       "density                 0\n",
       "pH                      0\n",
       "sulphates               0\n",
       "alcohol                 0\n",
       "dtype: int64"
      ]
     },
     "execution_count": 53,
     "metadata": {},
     "output_type": "execute_result"
    }
   ],
   "source": [
    "X.isnull().sum()"
   ]
  },
  {
   "cell_type": "code",
   "execution_count": 54,
   "metadata": {},
   "outputs": [],
   "source": [
    "from sklearn.model_selection import train_test_split\n",
    "X_train , X_test , y_train , y_test = train_test_split(X , y , random_state = 1)"
   ]
  },
  {
   "cell_type": "code",
   "execution_count": 55,
   "metadata": {},
   "outputs": [],
   "source": [
    "from sklearn.naive_bayes import GaussianNB\n",
    "from sklearn.linear_model import LogisticRegression\n",
    "\n",
    "import warnings\n",
    "warnings.filterwarnings('ignore') "
   ]
  },
  {
   "cell_type": "code",
   "execution_count": null,
   "metadata": {},
   "outputs": [],
   "source": []
  },
  {
   "cell_type": "code",
   "execution_count": 56,
   "metadata": {},
   "outputs": [
    {
     "name": "stdout",
     "output_type": "stream",
     "text": [
      "0.6955102040816327\n",
      "              precision    recall  f1-score   support\n",
      "\n",
      "           1       0.54      0.52      0.53       407\n",
      "           2       0.77      0.78      0.77       818\n",
      "\n",
      "   micro avg       0.70      0.70      0.70      1225\n",
      "   macro avg       0.65      0.65      0.65      1225\n",
      "weighted avg       0.69      0.70      0.69      1225\n",
      "\n"
     ]
    }
   ],
   "source": [
    "gnb = GaussianNB()\n",
    "gnb.fit(X_train , y_train)\n",
    "from sklearn.metrics import accuracy_score , classification_report\n",
    "y_pred = gnb.predict(X_test)\n",
    "print(accuracy_score(y_test,y_pred))\n",
    "print(classification_report(y_test,y_pred))"
   ]
  },
  {
   "cell_type": "code",
   "execution_count": 57,
   "metadata": {},
   "outputs": [
    {
     "data": {
      "text/plain": [
       "2    3258\n",
       "1    1640\n",
       "Name: quality, dtype: int64"
      ]
     },
     "execution_count": 57,
     "metadata": {},
     "output_type": "execute_result"
    }
   ],
   "source": [
    "y.value_counts()"
   ]
  },
  {
   "cell_type": "code",
   "execution_count": 58,
   "metadata": {},
   "outputs": [
    {
     "data": {
      "text/plain": [
       "2    3258\n",
       "1    3258\n",
       "Name: quality, dtype: int64"
      ]
     },
     "execution_count": 58,
     "metadata": {},
     "output_type": "execute_result"
    }
   ],
   "source": [
    "from sklearn.utils import resample\n",
    "\n",
    "data_majority = data[data['quality']==2]\n",
    "data_minority = data[data['quality']==1]\n",
    "\n",
    "data_minority_upsampled = resample(data_minority,\n",
    "                                   replace = True,\n",
    "                                   n_samples = 3258,\n",
    "                                   random_state = 1)\n",
    "data_upsampled = pd.concat([data_majority,data_minority_upsampled])\n",
    "data_upsampled['quality'].value_counts()"
   ]
  },
  {
   "cell_type": "code",
   "execution_count": 59,
   "metadata": {},
   "outputs": [
    {
     "data": {
      "text/plain": [
       "ID\n",
       "W2364    1\n",
       "W4835    2\n",
       "W1285    2\n",
       "W1218    1\n",
       "W4595    2\n",
       "W1940    1\n",
       "W2222    2\n",
       "W1042    1\n",
       "W4511    2\n",
       "W1419    1\n",
       "W2512    2\n",
       "W1054    1\n",
       "W0895    2\n",
       "W2674    2\n",
       "W4791    2\n",
       "W4455    2\n",
       "W0117    2\n",
       "W1349    2\n",
       "W0946    2\n",
       "W1905    2\n",
       "W2224    2\n",
       "W0121    1\n",
       "W3412    2\n",
       "W4239    1\n",
       "W1609    1\n",
       "W2652    1\n",
       "W2586    2\n",
       "W0063    1\n",
       "W3303    2\n",
       "W0183    1\n",
       "        ..\n",
       "W3276    1\n",
       "W0990    2\n",
       "W3284    2\n",
       "W0378    2\n",
       "W2776    2\n",
       "W4636    2\n",
       "W3495    2\n",
       "W2102    2\n",
       "W2653    2\n",
       "W4472    2\n",
       "W1255    1\n",
       "W0329    2\n",
       "W4831    2\n",
       "W4821    1\n",
       "W3752    1\n",
       "W1332    2\n",
       "W0997    1\n",
       "W0567    2\n",
       "W1725    2\n",
       "W2264    1\n",
       "W2083    2\n",
       "W1951    1\n",
       "W1945    1\n",
       "W3431    2\n",
       "W3440    1\n",
       "W3408    1\n",
       "W3343    1\n",
       "W2066    1\n",
       "W2421    2\n",
       "W0236    2\n",
       "Name: quality, Length: 1629, dtype: int64"
      ]
     },
     "execution_count": 59,
     "metadata": {},
     "output_type": "execute_result"
    }
   ],
   "source": [
    "train,test = train_test_split(data_upsampled , test_size = 0.25)\n",
    "\n",
    "\n",
    "train_y_upsampled = train['quality']\n",
    "test_y_upsampled = test['quality']\n",
    "train_x_upsampled = train\n",
    "train_x_upsampled.pop('quality')\n",
    "test_x_upsampled = test\n",
    "test_x_upsampled.pop('quality')"
   ]
  },
  {
   "cell_type": "code",
   "execution_count": 60,
   "metadata": {},
   "outputs": [
    {
     "name": "stdout",
     "output_type": "stream",
     "text": [
      "fixed acidity           0\n",
      "volatile acidity        0\n",
      "citric acid             0\n",
      "residual sugar          0\n",
      "chlorides               0\n",
      "free sulfur dioxide     0\n",
      "total sulfur dioxide    0\n",
      "density                 0\n",
      "pH                      0\n",
      "sulphates               0\n",
      "alcohol                 0\n",
      "dtype: int64\n",
      "fixed acidity           0\n",
      "volatile acidity        0\n",
      "citric acid             0\n",
      "residual sugar          0\n",
      "chlorides               0\n",
      "free sulfur dioxide     0\n",
      "total sulfur dioxide    0\n",
      "density                 0\n",
      "pH                      0\n",
      "sulphates               0\n",
      "alcohol                 0\n",
      "dtype: int64\n"
     ]
    }
   ],
   "source": [
    "train_x_upsampled.fillna(X.median(), inplace = True)\n",
    "print(train_x_upsampled.isnull().sum())\n",
    "\n",
    "test_x_upsampled.fillna(X.median(), inplace = True)\n",
    "print(test_x_upsampled.isnull().sum())\n",
    "\n"
   ]
  },
  {
   "cell_type": "markdown",
   "metadata": {},
   "source": [
    "# Naive Bayes"
   ]
  },
  {
   "cell_type": "code",
   "execution_count": 65,
   "metadata": {},
   "outputs": [
    {
     "name": "stdout",
     "output_type": "stream",
     "text": [
      "0.6949048496009822\n",
      "              precision    recall  f1-score   support\n",
      "\n",
      "           1       0.71      0.69      0.70       829\n",
      "           2       0.68      0.70      0.69       800\n",
      "\n",
      "   micro avg       0.69      0.69      0.69      1629\n",
      "   macro avg       0.70      0.70      0.69      1629\n",
      "weighted avg       0.70      0.69      0.69      1629\n",
      "\n"
     ]
    }
   ],
   "source": [
    "gnb_balanced = GaussianNB()\n",
    "gnb_balanced.fit(X=train_x_upsampled , y = train_y_upsampled)\n",
    "test_y_pred_balanced = gnb_balanced.predict(test_x_upsampled)\n",
    "# print('Accuracy of naive bayes classifier on test set : {:.2f}'.\n",
    "#      format(gnb_balanced.score(test_x_upsampled,test_y_upsampled)))\n",
    "acc_gnb_bal = gnb_balanced.score(test_x_upsampled,test_y_upsampled)\n",
    "print (acc_gnb_bal)\n",
    "print(classification_report(test_y_upsampled,test_y_pred_balanced))"
   ]
  },
  {
   "cell_type": "markdown",
   "metadata": {},
   "source": [
    "# Logistic Regression\n"
   ]
  },
  {
   "cell_type": "code",
   "execution_count": 62,
   "metadata": {},
   "outputs": [
    {
     "data": {
      "text/plain": [
       "LogisticRegression(C=1.0, class_weight=None, dual=False, fit_intercept=True,\n",
       "          intercept_scaling=1, max_iter=100, multi_class='warn',\n",
       "          n_jobs=None, penalty='l2', random_state=None, solver='warn',\n",
       "          tol=0.0001, verbose=0, warm_start=False)"
      ]
     },
     "execution_count": 62,
     "metadata": {},
     "output_type": "execute_result"
    }
   ],
   "source": [
    "logisticRegr_balanced = LogisticRegression()\n",
    "logisticRegr_balanced.fit(X = train_x_upsampled , y = train_y_upsampled)"
   ]
  },
  {
   "cell_type": "code",
   "execution_count": 66,
   "metadata": {},
   "outputs": [
    {
     "name": "stdout",
     "output_type": "stream",
     "text": [
      "0.7335788827501535\n",
      "              precision    recall  f1-score   support\n",
      "\n",
      "           1       0.73      0.76      0.74       829\n",
      "           2       0.74      0.71      0.72       800\n",
      "\n",
      "   micro avg       0.73      0.73      0.73      1629\n",
      "   macro avg       0.73      0.73      0.73      1629\n",
      "weighted avg       0.73      0.73      0.73      1629\n",
      "\n"
     ]
    }
   ],
   "source": [
    "test_y_pred_balanced = logisticRegr_balanced.predict(test_x_upsampled)\n",
    "#print('Accuracy of logistic regression classifier on test set : {:.2f}'.\n",
    "     #format(logisticRegr_balanced.score(test_x_upsampled,test_y_upsampled)))\n",
    "acc_logreg_bal = logisticRegr_balanced.score(test_x_upsampled,test_y_upsampled)\n",
    "print (acc_logreg_bal)\n",
    "print(classification_report(test_y_upsampled,test_y_pred_balanced))"
   ]
  },
  {
   "cell_type": "code",
   "execution_count": 67,
   "metadata": {},
   "outputs": [
    {
     "name": "stdout",
     "output_type": "stream",
     "text": [
      "              precision    recall  f1-score   support\n",
      "\n",
      "           1       0.73      0.76      0.74       829\n",
      "           2       0.74      0.71      0.72       800\n",
      "\n",
      "   micro avg       0.73      0.73      0.73      1629\n",
      "   macro avg       0.73      0.73      0.73      1629\n",
      "weighted avg       0.73      0.73      0.73      1629\n",
      "\n"
     ]
    }
   ],
   "source": [
    "print(classification_report(test_y_upsampled,test_y_pred_balanced))"
   ]
  },
  {
   "cell_type": "markdown",
   "metadata": {},
   "source": [
    "# KNN"
   ]
  },
  {
   "cell_type": "code",
   "execution_count": 79,
   "metadata": {},
   "outputs": [
    {
     "name": "stdout",
     "output_type": "stream",
     "text": [
      "0.6881522406384285\n"
     ]
    }
   ],
   "source": [
    "from sklearn.neighbors import KNeighborsClassifier\n",
    "from sklearn.metrics import accuracy_score \n",
    "knn = KNeighborsClassifier(n_neighbors=10)\n",
    "knn.fit(X = train_x_upsampled , y = train_y_upsampled)\n",
    "test_y_pred_balanced = knn.predict(test_x_upsampled)\n",
    "knn_acc = accuracy_score(test_y_upsampled,test_y_pred_balanced)\n",
    "print(knn_acc)\n"
   ]
  },
  {
   "cell_type": "markdown",
   "metadata": {},
   "source": [
    "# Decison Tree"
   ]
  },
  {
   "cell_type": "code",
   "execution_count": 84,
   "metadata": {},
   "outputs": [
    {
     "name": "stdout",
     "output_type": "stream",
     "text": [
      "              precision    recall  f1-score   support\n",
      "\n",
      "           1       0.72      0.79      0.76       829\n",
      "           2       0.76      0.69      0.72       800\n",
      "\n",
      "   micro avg       0.74      0.74      0.74      1629\n",
      "   macro avg       0.74      0.74      0.74      1629\n",
      "weighted avg       0.74      0.74      0.74      1629\n",
      "\n",
      "0.7391037446286065\n"
     ]
    }
   ],
   "source": [
    "from sklearn import tree\n",
    "model = tree.DecisionTreeClassifier(max_depth = 12 , max_leaf_nodes = 10)\n",
    "model.fit(X = train_x_upsampled,y = train_y_upsampled)\n",
    "test_y_pred_balanced = model.predict(test_x_upsampled)\n",
    "from sklearn.metrics import accuracy_score\n",
    "\n",
    "decision_tree_acc = accuracy_score(test_y_upsampled , test_y_pred_balanced)\n",
    "print(classification_report(test_y_upsampled , test_y_pred_balanced))\n",
    "print(decision_tree_acc)"
   ]
  },
  {
   "cell_type": "markdown",
   "metadata": {},
   "source": [
    "# Random Forest"
   ]
  },
  {
   "cell_type": "code",
   "execution_count": 82,
   "metadata": {},
   "outputs": [
    {
     "name": "stdout",
     "output_type": "stream",
     "text": [
      "0.9042357274401474\n"
     ]
    }
   ],
   "source": [
    "from sklearn.ensemble import RandomForestClassifier\n",
    "model = RandomForestClassifier(criterion = 'gini',\n",
    "                              n_estimators = 25,\n",
    "                              random_state = 1)\n",
    "model.fit(X=train_x_upsampled ,y= train_y_upsampled)\n",
    "test_y_pred_balanced = model.predict(test_x_upsampled)\n",
    "\n",
    "random_forest_acc = accuracy_score(test_y_upsampled , test_y_pred_balanced)\n",
    "print(random_forest_acc)"
   ]
  },
  {
   "cell_type": "code",
   "execution_count": 77,
   "metadata": {},
   "outputs": [
    {
     "data": {
      "image/png": "[encoded data removed]",
      "text/plain": [
       "<Figure size 432x288 with 1 Axes>"
      ]
     },
     "metadata": {
      "needs_background": "light"
     },
     "output_type": "display_data"
    }
   ],
   "source": [
    "Importance = pd.DataFrame({'Importance':model.feature_importances_*100},index = train_x_upsampled.columns)\n",
    "Importance.sort_values('Importance' , axis = 0 ,ascending = True).plot(kind ='barh' , color = 'r')\n",
    "plt.xlabel('Variable Importance')\n",
    "plt.gca().Legend_ = None "
   ]
  },
  {
   "cell_type": "code",
   "execution_count": 85,
   "metadata": {},
   "outputs": [
    {
     "name": "stdout",
     "output_type": "stream",
     "text": [
      "Naive Bayes 0.6949048496009822\n",
      "Logistic Regression 0.7335788827501535\n",
      "KNN 0.6881522406384285\n",
      "Decision Tree 0.7391037446286065\n",
      "Random Forest 0.9042357274401474\n"
     ]
    }
   ],
   "source": [
    "print(\"Naive Bayes\",acc_gnb_bal)\n",
    "print(\"Logistic Regression\",acc_logreg_bal)\n",
    "print(\"KNN\",knn_acc)\n",
    "print(\"Decision Tree\",decision_tree_acc)\n",
    "print(\"Random Forest\",random_forest_acc )"
   ]
  }
 ],
 "metadata": {
  "kernelspec": {
   "display_name": "Python 3",
   "language": "python",
   "name": "python3"
  },
  "language_info": {
   "codemirror_mode": {
    "name": "ipython",
    "version": 3
   },
   "file_extension": ".py",
   "mimetype": "text/x-python",
   "name": "python",
   "nbconvert_exporter": "python",
   "pygments_lexer": "ipython3",
   "version": "3.7.1"
  }
 },
 "nbformat": 4,
 "nbformat_minor": 2
}
